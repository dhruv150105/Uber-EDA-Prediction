{
 "cells": [
  {
   "cell_type": "markdown",
   "metadata": {
    "cellUniqueIdByVincent": "5aa9a"
   },
   "source": [
    "# About Dataset\n",
    "🚗 Uber Ride Analytics Dataset 2024\n",
    "This comprehensive dataset contains detailed ride-sharing data from Uber operations for the year 2024, providing rich insights into booking patterns, vehicle performance, revenue streams, cancellation behaviors, and customer satisfaction metrics.\n",
    "\n",
    "## 📊 Dataset Overview\n",
    "The dataset captures 148,770 total bookings across multiple vehicle types and provides a complete view of ride-sharing operations including successful rides, cancellations, customer behaviors, and financial metrics.\n",
    "Key Statistics:\n",
    "- Total Bookings: 148.77K rides\n",
    "- Success Rate: 65.96% (93K completed rides)\n",
    "- Cancellation Rate: 25% (37.43K cancelled bookings)\n",
    "- Customer Cancellations: 19.15% (27K rides)\n",
    "- Driver Cancellations: 7.45% (10.5K rides)"
   ]
  },
  {
   "cell_type": "code",
   "execution_count": 7,
   "metadata": {
    "cellUniqueIdByVincent": "55d29",
    "execution": {
     "iopub.execute_input": "2025-08-20T18:38:51.719651Z",
     "iopub.status.busy": "2025-08-20T18:38:51.719024Z",
     "iopub.status.idle": "2025-08-20T18:38:51.726527Z",
     "shell.execute_reply": "2025-08-20T18:38:51.725473Z",
     "shell.execute_reply.started": "2025-08-20T18:38:51.719555Z"
    },
    "trusted": true
   },
   "outputs": [],
   "source": [
    "import pandas as pd \n",
    "import numpy as np \n",
    "import matplotlib.pyplot as plt \n",
    "import seaborn as sns \n",
    "from pathlib import Path \n",
    "\n",
    "# from sklearn.model_selection import train_test_split, cross_val_score\n",
    "# from sklearn.ensemble import RandomForestClassifier\n",
    "# from sklearn.preprocessing import LabelEncoder\n",
    "# from sklearn.metrics import classification_report, confusion_matrix, accuracy_score"
   ]
  },
  {
   "cell_type": "code",
   "execution_count": 8,
   "metadata": {
    "cellUniqueIdByVincent": "f256e",
    "execution": {
     "iopub.execute_input": "2025-08-20T18:38:51.7286Z",
     "iopub.status.busy": "2025-08-20T18:38:51.727945Z",
     "iopub.status.idle": "2025-08-20T18:38:52.682855Z",
     "shell.execute_reply": "2025-08-20T18:38:52.68158Z",
     "shell.execute_reply.started": "2025-08-20T18:38:51.728458Z"
    },
    "trusted": true
   },
   "outputs": [],
   "source": [
    "\n",
    "df = pd.read_csv(\"ncr_ride_bookings.csv\")"
   ]
  },
  {
   "cell_type": "markdown",
   "metadata": {
    "cellUniqueIdByVincent": "06d72"
   },
   "source": [
    "## EDA"
   ]
  },
  {
   "cell_type": "code",
   "execution_count": 9,
   "metadata": {
    "cellUniqueIdByVincent": "77907",
    "execution": {
     "iopub.execute_input": "2025-08-20T18:38:52.684979Z",
     "iopub.status.busy": "2025-08-20T18:38:52.684607Z",
     "iopub.status.idle": "2025-08-20T18:38:52.691397Z",
     "shell.execute_reply": "2025-08-20T18:38:52.689984Z",
     "shell.execute_reply.started": "2025-08-20T18:38:52.684941Z"
    },
    "trusted": true
   },
   "outputs": [
    {
     "name": "stdout",
     "output_type": "stream",
     "text": [
      "Data Loaded:  (150000, 21)\n"
     ]
    }
   ],
   "source": [
    "print('Data Loaded: ', df.shape)"
   ]
  },
  {
   "cell_type": "code",
   "execution_count": 10,
   "metadata": {
    "cellUniqueIdByVincent": "6bb04",
    "execution": {
     "iopub.execute_input": "2025-08-20T18:38:52.694324Z",
     "iopub.status.busy": "2025-08-20T18:38:52.693859Z",
     "iopub.status.idle": "2025-08-20T18:38:52.740137Z",
     "shell.execute_reply": "2025-08-20T18:38:52.738837Z",
     "shell.execute_reply.started": "2025-08-20T18:38:52.694292Z"
    },
    "trusted": true
   },
   "outputs": [
    {
     "name": "stdout",
     "output_type": "stream",
     "text": [
      "==== Quick overview ====\n"
     ]
    },
    {
     "data": {
      "text/html": [
       "<div>\n",
       "<style scoped>\n",
       "    .dataframe tbody tr th:only-of-type {\n",
       "        vertical-align: middle;\n",
       "    }\n",
       "\n",
       "    .dataframe tbody tr th {\n",
       "        vertical-align: top;\n",
       "    }\n",
       "\n",
       "    .dataframe thead th {\n",
       "        text-align: right;\n",
       "    }\n",
       "</style>\n",
       "<table border=\"1\" class=\"dataframe\">\n",
       "  <thead>\n",
       "    <tr style=\"text-align: right;\">\n",
       "      <th></th>\n",
       "      <th>Date</th>\n",
       "      <th>Time</th>\n",
       "      <th>Booking ID</th>\n",
       "      <th>Booking Status</th>\n",
       "      <th>Customer ID</th>\n",
       "      <th>Vehicle Type</th>\n",
       "      <th>Pickup Location</th>\n",
       "      <th>Drop Location</th>\n",
       "      <th>Avg VTAT</th>\n",
       "      <th>Avg CTAT</th>\n",
       "      <th>...</th>\n",
       "      <th>Reason for cancelling by Customer</th>\n",
       "      <th>Cancelled Rides by Driver</th>\n",
       "      <th>Driver Cancellation Reason</th>\n",
       "      <th>Incomplete Rides</th>\n",
       "      <th>Incomplete Rides Reason</th>\n",
       "      <th>Booking Value</th>\n",
       "      <th>Ride Distance</th>\n",
       "      <th>Driver Ratings</th>\n",
       "      <th>Customer Rating</th>\n",
       "      <th>Payment Method</th>\n",
       "    </tr>\n",
       "  </thead>\n",
       "  <tbody>\n",
       "    <tr>\n",
       "      <th>0</th>\n",
       "      <td>2024-03-23</td>\n",
       "      <td>12:29:38</td>\n",
       "      <td>\"CNR5884300\"</td>\n",
       "      <td>No Driver Found</td>\n",
       "      <td>\"CID1982111\"</td>\n",
       "      <td>eBike</td>\n",
       "      <td>Palam Vihar</td>\n",
       "      <td>Jhilmil</td>\n",
       "      <td>NaN</td>\n",
       "      <td>NaN</td>\n",
       "      <td>...</td>\n",
       "      <td>NaN</td>\n",
       "      <td>NaN</td>\n",
       "      <td>NaN</td>\n",
       "      <td>NaN</td>\n",
       "      <td>NaN</td>\n",
       "      <td>NaN</td>\n",
       "      <td>NaN</td>\n",
       "      <td>NaN</td>\n",
       "      <td>NaN</td>\n",
       "      <td>NaN</td>\n",
       "    </tr>\n",
       "    <tr>\n",
       "      <th>1</th>\n",
       "      <td>2024-11-29</td>\n",
       "      <td>18:01:39</td>\n",
       "      <td>\"CNR1326809\"</td>\n",
       "      <td>Incomplete</td>\n",
       "      <td>\"CID4604802\"</td>\n",
       "      <td>Go Sedan</td>\n",
       "      <td>Shastri Nagar</td>\n",
       "      <td>Gurgaon Sector 56</td>\n",
       "      <td>4.9</td>\n",
       "      <td>14.0</td>\n",
       "      <td>...</td>\n",
       "      <td>NaN</td>\n",
       "      <td>NaN</td>\n",
       "      <td>NaN</td>\n",
       "      <td>1.0</td>\n",
       "      <td>Vehicle Breakdown</td>\n",
       "      <td>237.0</td>\n",
       "      <td>5.73</td>\n",
       "      <td>NaN</td>\n",
       "      <td>NaN</td>\n",
       "      <td>UPI</td>\n",
       "    </tr>\n",
       "    <tr>\n",
       "      <th>2</th>\n",
       "      <td>2024-08-23</td>\n",
       "      <td>08:56:10</td>\n",
       "      <td>\"CNR8494506\"</td>\n",
       "      <td>Completed</td>\n",
       "      <td>\"CID9202816\"</td>\n",
       "      <td>Auto</td>\n",
       "      <td>Khandsa</td>\n",
       "      <td>Malviya Nagar</td>\n",
       "      <td>13.4</td>\n",
       "      <td>25.8</td>\n",
       "      <td>...</td>\n",
       "      <td>NaN</td>\n",
       "      <td>NaN</td>\n",
       "      <td>NaN</td>\n",
       "      <td>NaN</td>\n",
       "      <td>NaN</td>\n",
       "      <td>627.0</td>\n",
       "      <td>13.58</td>\n",
       "      <td>4.9</td>\n",
       "      <td>4.9</td>\n",
       "      <td>Debit Card</td>\n",
       "    </tr>\n",
       "    <tr>\n",
       "      <th>3</th>\n",
       "      <td>2024-10-21</td>\n",
       "      <td>17:17:25</td>\n",
       "      <td>\"CNR8906825\"</td>\n",
       "      <td>Completed</td>\n",
       "      <td>\"CID2610914\"</td>\n",
       "      <td>Premier Sedan</td>\n",
       "      <td>Central Secretariat</td>\n",
       "      <td>Inderlok</td>\n",
       "      <td>13.1</td>\n",
       "      <td>28.5</td>\n",
       "      <td>...</td>\n",
       "      <td>NaN</td>\n",
       "      <td>NaN</td>\n",
       "      <td>NaN</td>\n",
       "      <td>NaN</td>\n",
       "      <td>NaN</td>\n",
       "      <td>416.0</td>\n",
       "      <td>34.02</td>\n",
       "      <td>4.6</td>\n",
       "      <td>5.0</td>\n",
       "      <td>UPI</td>\n",
       "    </tr>\n",
       "    <tr>\n",
       "      <th>4</th>\n",
       "      <td>2024-09-16</td>\n",
       "      <td>22:08:00</td>\n",
       "      <td>\"CNR1950162\"</td>\n",
       "      <td>Completed</td>\n",
       "      <td>\"CID9933542\"</td>\n",
       "      <td>Bike</td>\n",
       "      <td>Ghitorni Village</td>\n",
       "      <td>Khan Market</td>\n",
       "      <td>5.3</td>\n",
       "      <td>19.6</td>\n",
       "      <td>...</td>\n",
       "      <td>NaN</td>\n",
       "      <td>NaN</td>\n",
       "      <td>NaN</td>\n",
       "      <td>NaN</td>\n",
       "      <td>NaN</td>\n",
       "      <td>737.0</td>\n",
       "      <td>48.21</td>\n",
       "      <td>4.1</td>\n",
       "      <td>4.3</td>\n",
       "      <td>UPI</td>\n",
       "    </tr>\n",
       "  </tbody>\n",
       "</table>\n",
       "<p>5 rows × 21 columns</p>\n",
       "</div>"
      ],
      "text/plain": [
       "         Date      Time    Booking ID   Booking Status   Customer ID  \\\n",
       "0  2024-03-23  12:29:38  \"CNR5884300\"  No Driver Found  \"CID1982111\"   \n",
       "1  2024-11-29  18:01:39  \"CNR1326809\"       Incomplete  \"CID4604802\"   \n",
       "2  2024-08-23  08:56:10  \"CNR8494506\"        Completed  \"CID9202816\"   \n",
       "3  2024-10-21  17:17:25  \"CNR8906825\"        Completed  \"CID2610914\"   \n",
       "4  2024-09-16  22:08:00  \"CNR1950162\"        Completed  \"CID9933542\"   \n",
       "\n",
       "    Vehicle Type      Pickup Location      Drop Location  Avg VTAT  Avg CTAT  \\\n",
       "0          eBike          Palam Vihar            Jhilmil       NaN       NaN   \n",
       "1       Go Sedan        Shastri Nagar  Gurgaon Sector 56       4.9      14.0   \n",
       "2           Auto              Khandsa      Malviya Nagar      13.4      25.8   \n",
       "3  Premier Sedan  Central Secretariat           Inderlok      13.1      28.5   \n",
       "4           Bike     Ghitorni Village        Khan Market       5.3      19.6   \n",
       "\n",
       "   ...  Reason for cancelling by Customer Cancelled Rides by Driver  \\\n",
       "0  ...                                NaN                       NaN   \n",
       "1  ...                                NaN                       NaN   \n",
       "2  ...                                NaN                       NaN   \n",
       "3  ...                                NaN                       NaN   \n",
       "4  ...                                NaN                       NaN   \n",
       "\n",
       "   Driver Cancellation Reason Incomplete Rides  Incomplete Rides Reason  \\\n",
       "0                         NaN              NaN                      NaN   \n",
       "1                         NaN              1.0        Vehicle Breakdown   \n",
       "2                         NaN              NaN                      NaN   \n",
       "3                         NaN              NaN                      NaN   \n",
       "4                         NaN              NaN                      NaN   \n",
       "\n",
       "  Booking Value  Ride Distance  Driver Ratings  Customer Rating  \\\n",
       "0           NaN            NaN             NaN              NaN   \n",
       "1         237.0           5.73             NaN              NaN   \n",
       "2         627.0          13.58             4.9              4.9   \n",
       "3         416.0          34.02             4.6              5.0   \n",
       "4         737.0          48.21             4.1              4.3   \n",
       "\n",
       "   Payment Method  \n",
       "0             NaN  \n",
       "1             UPI  \n",
       "2      Debit Card  \n",
       "3             UPI  \n",
       "4             UPI  \n",
       "\n",
       "[5 rows x 21 columns]"
      ]
     },
     "metadata": {},
     "output_type": "display_data"
    }
   ],
   "source": [
    "# Quick overview\n",
    "print('==== Quick overview ====')\n",
    "display(df.head())"
   ]
  },
  {
   "cell_type": "code",
   "execution_count": 11,
   "metadata": {
    "cellUniqueIdByVincent": "dc184",
    "execution": {
     "iopub.execute_input": "2025-08-20T18:38:52.741522Z",
     "iopub.status.busy": "2025-08-20T18:38:52.741231Z",
     "iopub.status.idle": "2025-08-20T18:38:52.875159Z",
     "shell.execute_reply": "2025-08-20T18:38:52.874008Z",
     "shell.execute_reply.started": "2025-08-20T18:38:52.741498Z"
    },
    "trusted": true
   },
   "outputs": [
    {
     "name": "stdout",
     "output_type": "stream",
     "text": [
      "==== Data Info ====\n",
      "<class 'pandas.core.frame.DataFrame'>\n",
      "RangeIndex: 150000 entries, 0 to 149999\n",
      "Data columns (total 21 columns):\n",
      " #   Column                             Non-Null Count   Dtype  \n",
      "---  ------                             --------------   -----  \n",
      " 0   Date                               150000 non-null  object \n",
      " 1   Time                               150000 non-null  object \n",
      " 2   Booking ID                         150000 non-null  object \n",
      " 3   Booking Status                     150000 non-null  object \n",
      " 4   Customer ID                        150000 non-null  object \n",
      " 5   Vehicle Type                       150000 non-null  object \n",
      " 6   Pickup Location                    150000 non-null  object \n",
      " 7   Drop Location                      150000 non-null  object \n",
      " 8   Avg VTAT                           139500 non-null  float64\n",
      " 9   Avg CTAT                           102000 non-null  float64\n",
      " 10  Cancelled Rides by Customer        10500 non-null   float64\n",
      " 11  Reason for cancelling by Customer  10500 non-null   object \n",
      " 12  Cancelled Rides by Driver          27000 non-null   float64\n",
      " 13  Driver Cancellation Reason         27000 non-null   object \n",
      " 14  Incomplete Rides                   9000 non-null    float64\n",
      " 15  Incomplete Rides Reason            9000 non-null    object \n",
      " 16  Booking Value                      102000 non-null  float64\n",
      " 17  Ride Distance                      102000 non-null  float64\n",
      " 18  Driver Ratings                     93000 non-null   float64\n",
      " 19  Customer Rating                    93000 non-null   float64\n",
      " 20  Payment Method                     102000 non-null  object \n",
      "dtypes: float64(9), object(12)\n",
      "memory usage: 24.0+ MB\n"
     ]
    }
   ],
   "source": [
    "print('==== Data Info ====')\n",
    "df.info()"
   ]
  },
  {
   "cell_type": "code",
   "execution_count": 12,
   "metadata": {
    "cellUniqueIdByVincent": "70585",
    "execution": {
     "iopub.execute_input": "2025-08-20T18:38:52.87681Z",
     "iopub.status.busy": "2025-08-20T18:38:52.876414Z",
     "iopub.status.idle": "2025-08-20T18:38:53.007597Z",
     "shell.execute_reply": "2025-08-20T18:38:53.006544Z",
     "shell.execute_reply.started": "2025-08-20T18:38:52.876784Z"
    },
    "trusted": true
   },
   "outputs": [
    {
     "name": "stdout",
     "output_type": "stream",
     "text": [
      "==== Data Description ====\n"
     ]
    },
    {
     "data": {
      "text/html": [
       "<div>\n",
       "<style scoped>\n",
       "    .dataframe tbody tr th:only-of-type {\n",
       "        vertical-align: middle;\n",
       "    }\n",
       "\n",
       "    .dataframe tbody tr th {\n",
       "        vertical-align: top;\n",
       "    }\n",
       "\n",
       "    .dataframe thead th {\n",
       "        text-align: right;\n",
       "    }\n",
       "</style>\n",
       "<table border=\"1\" class=\"dataframe\">\n",
       "  <thead>\n",
       "    <tr style=\"text-align: right;\">\n",
       "      <th></th>\n",
       "      <th>Avg VTAT</th>\n",
       "      <th>Avg CTAT</th>\n",
       "      <th>Cancelled Rides by Customer</th>\n",
       "      <th>Cancelled Rides by Driver</th>\n",
       "      <th>Incomplete Rides</th>\n",
       "      <th>Booking Value</th>\n",
       "      <th>Ride Distance</th>\n",
       "      <th>Driver Ratings</th>\n",
       "      <th>Customer Rating</th>\n",
       "    </tr>\n",
       "  </thead>\n",
       "  <tbody>\n",
       "    <tr>\n",
       "      <th>count</th>\n",
       "      <td>139500.0</td>\n",
       "      <td>102000.0</td>\n",
       "      <td>10500.0</td>\n",
       "      <td>27000.0</td>\n",
       "      <td>9000.0</td>\n",
       "      <td>102000.0</td>\n",
       "      <td>102000.0</td>\n",
       "      <td>93000.0</td>\n",
       "      <td>93000.0</td>\n",
       "    </tr>\n",
       "    <tr>\n",
       "      <th>mean</th>\n",
       "      <td>8.0</td>\n",
       "      <td>29.0</td>\n",
       "      <td>1.0</td>\n",
       "      <td>1.0</td>\n",
       "      <td>1.0</td>\n",
       "      <td>508.0</td>\n",
       "      <td>25.0</td>\n",
       "      <td>4.0</td>\n",
       "      <td>4.0</td>\n",
       "    </tr>\n",
       "    <tr>\n",
       "      <th>std</th>\n",
       "      <td>4.0</td>\n",
       "      <td>9.0</td>\n",
       "      <td>0.0</td>\n",
       "      <td>0.0</td>\n",
       "      <td>0.0</td>\n",
       "      <td>396.0</td>\n",
       "      <td>14.0</td>\n",
       "      <td>0.0</td>\n",
       "      <td>0.0</td>\n",
       "    </tr>\n",
       "    <tr>\n",
       "      <th>min</th>\n",
       "      <td>2.0</td>\n",
       "      <td>10.0</td>\n",
       "      <td>1.0</td>\n",
       "      <td>1.0</td>\n",
       "      <td>1.0</td>\n",
       "      <td>50.0</td>\n",
       "      <td>1.0</td>\n",
       "      <td>3.0</td>\n",
       "      <td>3.0</td>\n",
       "    </tr>\n",
       "    <tr>\n",
       "      <th>25%</th>\n",
       "      <td>5.0</td>\n",
       "      <td>22.0</td>\n",
       "      <td>1.0</td>\n",
       "      <td>1.0</td>\n",
       "      <td>1.0</td>\n",
       "      <td>234.0</td>\n",
       "      <td>12.0</td>\n",
       "      <td>4.0</td>\n",
       "      <td>4.0</td>\n",
       "    </tr>\n",
       "    <tr>\n",
       "      <th>50%</th>\n",
       "      <td>8.0</td>\n",
       "      <td>29.0</td>\n",
       "      <td>1.0</td>\n",
       "      <td>1.0</td>\n",
       "      <td>1.0</td>\n",
       "      <td>414.0</td>\n",
       "      <td>24.0</td>\n",
       "      <td>4.0</td>\n",
       "      <td>4.0</td>\n",
       "    </tr>\n",
       "    <tr>\n",
       "      <th>75%</th>\n",
       "      <td>11.0</td>\n",
       "      <td>37.0</td>\n",
       "      <td>1.0</td>\n",
       "      <td>1.0</td>\n",
       "      <td>1.0</td>\n",
       "      <td>689.0</td>\n",
       "      <td>37.0</td>\n",
       "      <td>5.0</td>\n",
       "      <td>5.0</td>\n",
       "    </tr>\n",
       "    <tr>\n",
       "      <th>max</th>\n",
       "      <td>20.0</td>\n",
       "      <td>45.0</td>\n",
       "      <td>1.0</td>\n",
       "      <td>1.0</td>\n",
       "      <td>1.0</td>\n",
       "      <td>4277.0</td>\n",
       "      <td>50.0</td>\n",
       "      <td>5.0</td>\n",
       "      <td>5.0</td>\n",
       "    </tr>\n",
       "  </tbody>\n",
       "</table>\n",
       "</div>"
      ],
      "text/plain": [
       "       Avg VTAT  Avg CTAT  Cancelled Rides by Customer  \\\n",
       "count  139500.0  102000.0                      10500.0   \n",
       "mean        8.0      29.0                          1.0   \n",
       "std         4.0       9.0                          0.0   \n",
       "min         2.0      10.0                          1.0   \n",
       "25%         5.0      22.0                          1.0   \n",
       "50%         8.0      29.0                          1.0   \n",
       "75%        11.0      37.0                          1.0   \n",
       "max        20.0      45.0                          1.0   \n",
       "\n",
       "       Cancelled Rides by Driver  Incomplete Rides  Booking Value  \\\n",
       "count                    27000.0            9000.0       102000.0   \n",
       "mean                         1.0               1.0          508.0   \n",
       "std                          0.0               0.0          396.0   \n",
       "min                          1.0               1.0           50.0   \n",
       "25%                          1.0               1.0          234.0   \n",
       "50%                          1.0               1.0          414.0   \n",
       "75%                          1.0               1.0          689.0   \n",
       "max                          1.0               1.0         4277.0   \n",
       "\n",
       "       Ride Distance  Driver Ratings  Customer Rating  \n",
       "count       102000.0         93000.0          93000.0  \n",
       "mean            25.0             4.0              4.0  \n",
       "std             14.0             0.0              0.0  \n",
       "min              1.0             3.0              3.0  \n",
       "25%             12.0             4.0              4.0  \n",
       "50%             24.0             4.0              4.0  \n",
       "75%             37.0             5.0              5.0  \n",
       "max             50.0             5.0              5.0  "
      ]
     },
     "execution_count": 12,
     "metadata": {},
     "output_type": "execute_result"
    }
   ],
   "source": [
    "print('==== Data Description ====')\n",
    "df.describe().round()"
   ]
  },
  {
   "cell_type": "code",
   "execution_count": 13,
   "metadata": {
    "cellUniqueIdByVincent": "7c1d6",
    "execution": {
     "iopub.execute_input": "2025-08-20T18:38:53.009339Z",
     "iopub.status.busy": "2025-08-20T18:38:53.008911Z",
     "iopub.status.idle": "2025-08-20T18:38:53.639692Z",
     "shell.execute_reply": "2025-08-20T18:38:53.638397Z",
     "shell.execute_reply.started": "2025-08-20T18:38:53.009314Z"
    },
    "trusted": true
   },
   "outputs": [
    {
     "data": {
      "text/html": [
       "<div>\n",
       "<style scoped>\n",
       "    .dataframe tbody tr th:only-of-type {\n",
       "        vertical-align: middle;\n",
       "    }\n",
       "\n",
       "    .dataframe tbody tr th {\n",
       "        vertical-align: top;\n",
       "    }\n",
       "\n",
       "    .dataframe thead th {\n",
       "        text-align: right;\n",
       "    }\n",
       "</style>\n",
       "<table border=\"1\" class=\"dataframe\">\n",
       "  <thead>\n",
       "    <tr style=\"text-align: right;\">\n",
       "      <th></th>\n",
       "      <th>Date</th>\n",
       "      <th>Time</th>\n",
       "      <th>Booking ID</th>\n",
       "      <th>Booking Status</th>\n",
       "      <th>Customer ID</th>\n",
       "      <th>Vehicle Type</th>\n",
       "      <th>Pickup Location</th>\n",
       "      <th>Drop Location</th>\n",
       "      <th>Reason for cancelling by Customer</th>\n",
       "      <th>Driver Cancellation Reason</th>\n",
       "      <th>Incomplete Rides Reason</th>\n",
       "      <th>Payment Method</th>\n",
       "    </tr>\n",
       "  </thead>\n",
       "  <tbody>\n",
       "    <tr>\n",
       "      <th>count</th>\n",
       "      <td>150000</td>\n",
       "      <td>150000</td>\n",
       "      <td>150000</td>\n",
       "      <td>150000</td>\n",
       "      <td>150000</td>\n",
       "      <td>150000</td>\n",
       "      <td>150000</td>\n",
       "      <td>150000</td>\n",
       "      <td>10500</td>\n",
       "      <td>27000</td>\n",
       "      <td>9000</td>\n",
       "      <td>102000</td>\n",
       "    </tr>\n",
       "    <tr>\n",
       "      <th>unique</th>\n",
       "      <td>365</td>\n",
       "      <td>62910</td>\n",
       "      <td>148767</td>\n",
       "      <td>5</td>\n",
       "      <td>148788</td>\n",
       "      <td>7</td>\n",
       "      <td>176</td>\n",
       "      <td>176</td>\n",
       "      <td>5</td>\n",
       "      <td>4</td>\n",
       "      <td>3</td>\n",
       "      <td>5</td>\n",
       "    </tr>\n",
       "    <tr>\n",
       "      <th>top</th>\n",
       "      <td>2024-11-16</td>\n",
       "      <td>17:44:57</td>\n",
       "      <td>\"CNR3648267\"</td>\n",
       "      <td>Completed</td>\n",
       "      <td>\"CID6715450\"</td>\n",
       "      <td>Auto</td>\n",
       "      <td>Khandsa</td>\n",
       "      <td>Ashram</td>\n",
       "      <td>Wrong Address</td>\n",
       "      <td>Customer related issue</td>\n",
       "      <td>Customer Demand</td>\n",
       "      <td>UPI</td>\n",
       "    </tr>\n",
       "    <tr>\n",
       "      <th>freq</th>\n",
       "      <td>462</td>\n",
       "      <td>16</td>\n",
       "      <td>3</td>\n",
       "      <td>93000</td>\n",
       "      <td>3</td>\n",
       "      <td>37419</td>\n",
       "      <td>949</td>\n",
       "      <td>936</td>\n",
       "      <td>2362</td>\n",
       "      <td>6837</td>\n",
       "      <td>3040</td>\n",
       "      <td>45909</td>\n",
       "    </tr>\n",
       "  </tbody>\n",
       "</table>\n",
       "</div>"
      ],
      "text/plain": [
       "              Date      Time    Booking ID Booking Status   Customer ID  \\\n",
       "count       150000    150000        150000         150000        150000   \n",
       "unique         365     62910        148767              5        148788   \n",
       "top     2024-11-16  17:44:57  \"CNR3648267\"      Completed  \"CID6715450\"   \n",
       "freq           462        16             3          93000             3   \n",
       "\n",
       "       Vehicle Type Pickup Location Drop Location  \\\n",
       "count        150000          150000        150000   \n",
       "unique            7             176           176   \n",
       "top            Auto         Khandsa        Ashram   \n",
       "freq          37419             949           936   \n",
       "\n",
       "       Reason for cancelling by Customer Driver Cancellation Reason  \\\n",
       "count                              10500                      27000   \n",
       "unique                                 5                          4   \n",
       "top                        Wrong Address     Customer related issue   \n",
       "freq                                2362                       6837   \n",
       "\n",
       "       Incomplete Rides Reason Payment Method  \n",
       "count                     9000         102000  \n",
       "unique                       3              5  \n",
       "top            Customer Demand            UPI  \n",
       "freq                      3040          45909  "
      ]
     },
     "execution_count": 13,
     "metadata": {},
     "output_type": "execute_result"
    }
   ],
   "source": [
    "df.describe(include='O')"
   ]
  },
  {
   "cell_type": "code",
   "execution_count": null,
   "metadata": {
    "cellUniqueIdByVincent": "2f445",
    "execution": {
     "iopub.execute_input": "2025-08-20T18:38:53.64089Z",
     "iopub.status.busy": "2025-08-20T18:38:53.64049Z",
     "iopub.status.idle": "2025-08-20T18:38:54.830814Z",
     "shell.execute_reply": "2025-08-20T18:38:54.829695Z",
     "shell.execute_reply.started": "2025-08-20T18:38:53.640866Z"
    },
    "trusted": true
   },
   "outputs": [],
   "source": [
    "# Datetime parsing\n",
    "df['Date'] = pd.to_datetime(df['Date'], errors='coerce')\n",
    "df['Time'] = pd.to_datetime(df['Time'], format='%H:%M:%S').dt.time\n",
    "\n",
    "df['Hour'] = pd.to_datetime(df['Time'], format='%H:%M:%S').dt.hour\n",
    "df['Day_of_week'] = pd.to_datetime(df['Date'], errors='coerce').dt.day_name()\n",
    "df['Month'] = pd.to_datetime(df['Date'], errors='coerce').dt.month_name()\n",
    "\n"
   ]
  },
  {
   "cell_type": "code",
   "execution_count": null,
   "metadata": {
    "cellUniqueIdByVincent": "90d47",
    "execution": {
     "iopub.execute_input": "2025-08-20T18:38:54.83442Z",
     "iopub.status.busy": "2025-08-20T18:38:54.83408Z",
     "iopub.status.idle": "2025-08-20T18:38:55.300514Z",
     "shell.execute_reply": "2025-08-20T18:38:55.29869Z",
     "shell.execute_reply.started": "2025-08-20T18:38:54.834397Z"
    },
    "trusted": true
   },
   "outputs": [],
   "source": [
    "# Missing values summary\n",
    "print('==== Missing Values ====')\n",
    "df.isnull().sum().sort_values(ascending=False).plot(kind='barh', figsize=(10, 6), title='Missing Values', xlabel='Missing Values', ylabel='Columns')\n",
    "plt.show()\n"
   ]
  },
  {
   "cell_type": "code",
   "execution_count": null,
   "metadata": {
    "cellUniqueIdByVincent": "2c969",
    "execution": {
     "iopub.execute_input": "2025-08-20T18:38:55.302344Z",
     "iopub.status.busy": "2025-08-20T18:38:55.301935Z",
     "iopub.status.idle": "2025-08-20T18:38:55.481894Z",
     "shell.execute_reply": "2025-08-20T18:38:55.480489Z",
     "shell.execute_reply.started": "2025-08-20T18:38:55.302317Z"
    },
    "trusted": true
   },
   "outputs": [],
   "source": [
    "# Replace string \"null\" with NaN\n",
    "df = df.replace('null', np.nan)"
   ]
  },
  {
   "cell_type": "code",
   "execution_count": null,
   "metadata": {
    "cellUniqueIdByVincent": "37ad6",
    "execution": {
     "iopub.execute_input": "2025-08-20T18:38:55.483232Z",
     "iopub.status.busy": "2025-08-20T18:38:55.482873Z",
     "iopub.status.idle": "2025-08-20T18:38:55.592547Z",
     "shell.execute_reply": "2025-08-20T18:38:55.591375Z",
     "shell.execute_reply.started": "2025-08-20T18:38:55.4832Z"
    },
    "trusted": true
   },
   "outputs": [],
   "source": [
    "# Check missing values\n",
    "print('Missing values each columns:')\n",
    "df.isnull().sum()"
   ]
  },
  {
   "cell_type": "code",
   "execution_count": null,
   "metadata": {
    "cellUniqueIdByVincent": "f2ccf",
    "execution": {
     "iopub.execute_input": "2025-08-20T18:38:55.593714Z",
     "iopub.status.busy": "2025-08-20T18:38:55.593396Z",
     "iopub.status.idle": "2025-08-20T18:38:55.709892Z",
     "shell.execute_reply": "2025-08-20T18:38:55.708699Z",
     "shell.execute_reply.started": "2025-08-20T18:38:55.593689Z"
    },
    "trusted": true
   },
   "outputs": [],
   "source": [
    "print('Percentage of missing values:')\n",
    "(df.isnull().sum() / len(df) * 100)"
   ]
  },
  {
   "cell_type": "code",
   "execution_count": null,
   "metadata": {
    "cellUniqueIdByVincent": "f47df",
    "execution": {
     "iopub.execute_input": "2025-08-20T18:38:55.711276Z",
     "iopub.status.busy": "2025-08-20T18:38:55.710975Z",
     "iopub.status.idle": "2025-08-20T18:38:55.965515Z",
     "shell.execute_reply": "2025-08-20T18:38:55.964504Z",
     "shell.execute_reply.started": "2025-08-20T18:38:55.711253Z"
    },
    "trusted": true
   },
   "outputs": [],
   "source": [
    "# For numeric column, fill missing values with median\n",
    "numeric_columns = df.select_dtypes(include=[np.number]).columns\n",
    "for col in numeric_columns:\n",
    "    if df[col].isnull().sum() > 0:\n",
    "        df.fillna({col: df[col].median()}, inplace=True)\n",
    "\n",
    "\n",
    "# For categorical column, fill missing values with mode or 'Unknown' \n",
    "categorical_columns = df.select_dtypes(include=['O']).columns\n",
    "for col in categorical_columns:\n",
    "    if df[col].isnull().sum() > 0:\n",
    "        df.fillna({col: 'Unknown'}, inplace=True)"
   ]
  },
  {
   "cell_type": "code",
   "execution_count": null,
   "metadata": {
    "cellUniqueIdByVincent": "08552",
    "execution": {
     "iopub.execute_input": "2025-08-20T18:38:55.966776Z",
     "iopub.status.busy": "2025-08-20T18:38:55.966462Z",
     "iopub.status.idle": "2025-08-20T18:38:56.083236Z",
     "shell.execute_reply": "2025-08-20T18:38:56.082077Z",
     "shell.execute_reply.started": "2025-08-20T18:38:55.966753Z"
    },
    "trusted": true
   },
   "outputs": [],
   "source": [
    "df.isnull().sum()"
   ]
  },
  {
   "cell_type": "code",
   "execution_count": null,
   "metadata": {
    "cellUniqueIdByVincent": "a3d4f",
    "execution": {
     "iopub.execute_input": "2025-08-20T18:38:56.084669Z",
     "iopub.status.busy": "2025-08-20T18:38:56.084381Z",
     "iopub.status.idle": "2025-08-20T18:38:56.347148Z",
     "shell.execute_reply": "2025-08-20T18:38:56.346167Z",
     "shell.execute_reply.started": "2025-08-20T18:38:56.084647Z"
    },
    "trusted": true
   },
   "outputs": [],
   "source": [
    "# Check data duplicates\n",
    "df.duplicated().sum()"
   ]
  },
  {
   "cell_type": "markdown",
   "metadata": {
    "cellUniqueIdByVincent": "ce2d7"
   },
   "source": [
    "There are no duplicates in the data."
   ]
  },
  {
   "cell_type": "code",
   "execution_count": null,
   "metadata": {
    "cellUniqueIdByVincent": "3dd78",
    "execution": {
     "iopub.execute_input": "2025-08-20T18:38:56.34901Z",
     "iopub.status.busy": "2025-08-20T18:38:56.348661Z",
     "iopub.status.idle": "2025-08-20T18:38:56.883165Z",
     "shell.execute_reply": "2025-08-20T18:38:56.882136Z",
     "shell.execute_reply.started": "2025-08-20T18:38:56.348979Z"
    },
    "trusted": true
   },
   "outputs": [],
   "source": [
    "# Delete whitespace in column string\n",
    "for col in df.columns:\n",
    "    if df[col].dtype == 'object':\n",
    "        df[col] = df[col].astype(str).str.strip()"
   ]
  },
  {
   "cell_type": "code",
   "execution_count": null,
   "metadata": {
    "cellUniqueIdByVincent": "9266d",
    "execution": {
     "iopub.execute_input": "2025-08-20T18:38:56.884562Z",
     "iopub.status.busy": "2025-08-20T18:38:56.884234Z",
     "iopub.status.idle": "2025-08-20T18:38:56.921384Z",
     "shell.execute_reply": "2025-08-20T18:38:56.919874Z",
     "shell.execute_reply.started": "2025-08-20T18:38:56.884527Z"
    },
    "trusted": true
   },
   "outputs": [],
   "source": [
    "df.head()"
   ]
  },
  {
   "cell_type": "markdown",
   "metadata": {
    "cellUniqueIdByVincent": "d43d0"
   },
   "source": [
    "### Visualization"
   ]
  },
  {
   "cell_type": "code",
   "execution_count": null,
   "metadata": {
    "cellUniqueIdByVincent": "0a3ff",
    "execution": {
     "iopub.execute_input": "2025-08-20T18:38:56.922599Z",
     "iopub.status.busy": "2025-08-20T18:38:56.92224Z",
     "iopub.status.idle": "2025-08-20T18:38:57.274706Z",
     "shell.execute_reply": "2025-08-20T18:38:57.273609Z",
     "shell.execute_reply.started": "2025-08-20T18:38:56.922565Z"
    },
    "trusted": true
   },
   "outputs": [],
   "source": [
    "# Distribution rides by hour\n",
    "plt.figure(figsize=(12, 6))\n",
    "df['Hour'].value_counts().sort_index().plot(kind='bar')\n",
    "plt.title('Distribution of Rides by Hour')\n",
    "plt.xlabel('Hour')\n",
    "plt.ylabel('Number of Rides')\n",
    "plt.xticks(rotation=0)\n",
    "plt.tight_layout()\n",
    "plt.show()\n",
    "    "
   ]
  },
  {
   "cell_type": "code",
   "execution_count": null,
   "metadata": {
    "cellUniqueIdByVincent": "1a284",
    "execution": {
     "iopub.execute_input": "2025-08-20T18:38:57.276527Z",
     "iopub.status.busy": "2025-08-20T18:38:57.276209Z",
     "iopub.status.idle": "2025-08-20T18:38:57.559183Z",
     "shell.execute_reply": "2025-08-20T18:38:57.55818Z",
     "shell.execute_reply.started": "2025-08-20T18:38:57.276496Z"
    },
    "trusted": true
   },
   "outputs": [],
   "source": [
    "# Distribution rides by month\n",
    "plt.figure(figsize=(12, 6))\n",
    "df['Month'].value_counts().sort_index().plot(kind='bar')\n",
    "plt.title('Distribution of Rides by Month')\n",
    "plt.xlabel('Month')\n",
    "plt.ylabel('Number of Rides')\n",
    "plt.xticks(rotation=0)\n",
    "plt.tight_layout()\n",
    "plt.show()\n",
    "    "
   ]
  },
  {
   "cell_type": "code",
   "execution_count": null,
   "metadata": {
    "cellUniqueIdByVincent": "3bf88",
    "execution": {
     "iopub.execute_input": "2025-08-20T18:38:57.560751Z",
     "iopub.status.busy": "2025-08-20T18:38:57.560436Z",
     "iopub.status.idle": "2025-08-20T18:38:57.794368Z",
     "shell.execute_reply": "2025-08-20T18:38:57.79316Z",
     "shell.execute_reply.started": "2025-08-20T18:38:57.560727Z"
    },
    "trusted": true
   },
   "outputs": [],
   "source": [
    "order = ['Monday', 'Tuesday', 'Wednesday', 'Thursday', 'Friday', 'Saturday', 'Sunday']\n",
    "plt.figure(figsize=(10, 5))\n",
    "df['Day_of_week'].value_counts().reindex(order).plot(kind='bar')\n",
    "plt.title('Distribution of Rides by Day of Week')\n",
    "plt.xlabel('Day of Week')\n",
    "plt.ylabel('Number of Rides')\n",
    "plt.xticks(rotation=0)\n",
    "plt.tight_layout()\n",
    "plt.show()\n"
   ]
  },
  {
   "cell_type": "markdown",
   "metadata": {
    "cellUniqueIdByVincent": "8639d"
   },
   "source": [
    "### 📊 1. Visualisasi Temporal (Waktu)\n",
    "\n",
    "Time Patterns:"
   ]
  },
  {
   "cell_type": "code",
   "execution_count": null,
   "metadata": {
    "cellUniqueIdByVincent": "5bfed",
    "execution": {
     "iopub.execute_input": "2025-08-20T18:38:57.79579Z",
     "iopub.status.busy": "2025-08-20T18:38:57.795414Z",
     "iopub.status.idle": "2025-08-20T18:38:58.530408Z",
     "shell.execute_reply": "2025-08-20T18:38:58.529448Z",
     "shell.execute_reply.started": "2025-08-20T18:38:57.795737Z"
    },
    "trusted": true
   },
   "outputs": [],
   "source": [
    "# Heatmap pattern for booking by hour and day\n",
    "plt.figure(figsize=(12, 8))\n",
    "pivot_table = df.pivot_table(values='Booking ID', index='Hour', columns='Day_of_week', aggfunc='count')\n",
    "sns.heatmap(pivot_table, annot=True, cmap='YlOrRd', fmt='d')\n",
    "plt.title('Booking Patterns: Hour vs Day of Week')\n",
    "plt.show()"
   ]
  },
  {
   "cell_type": "markdown",
   "metadata": {
    "cellUniqueIdByVincent": "0c043"
   },
   "source": [
    "Monthly Trends:\n"
   ]
  },
  {
   "cell_type": "code",
   "execution_count": null,
   "metadata": {
    "cellUniqueIdByVincent": "aee56",
    "execution": {
     "iopub.execute_input": "2025-08-20T18:38:58.531761Z",
     "iopub.status.busy": "2025-08-20T18:38:58.531468Z",
     "iopub.status.idle": "2025-08-20T18:38:58.947787Z",
     "shell.execute_reply": "2025-08-20T18:38:58.946679Z",
     "shell.execute_reply.started": "2025-08-20T18:38:58.531738Z"
    },
    "trusted": true
   },
   "outputs": [],
   "source": [
    "monthly_bookings = df.groupby('Month').size()\n",
    "plt.figure(figsize=(12, 5))\n",
    "\n",
    "order_month = ['January', 'February', 'March', 'April', 'May', 'June', 'July', 'August', 'September', 'October', 'November', 'December']\n",
    "monthly_bookings = monthly_bookings.reindex(order_month)\n",
    "\n",
    "plt.plot(monthly_bookings.index, monthly_bookings.values, marker='o')\n",
    "plt.title('Monthly Booking Trends 2024')\n",
    "plt.xlabel('Month')\n",
    "plt.ylabel('Number of Bookings')\n",
    "plt.grid(True)\n",
    "plt.show()\n"
   ]
  },
  {
   "cell_type": "markdown",
   "metadata": {
    "cellUniqueIdByVincent": "a5078"
   },
   "source": [
    "### 🚗 2. Visualisasi Vehicle Type\n",
    "\n",
    "Vehicle type distribution:"
   ]
  },
  {
   "cell_type": "code",
   "execution_count": null,
   "metadata": {
    "cellUniqueIdByVincent": "d8936",
    "execution": {
     "iopub.execute_input": "2025-08-20T18:38:58.949121Z",
     "iopub.status.busy": "2025-08-20T18:38:58.948851Z",
     "iopub.status.idle": "2025-08-20T18:38:59.208041Z",
     "shell.execute_reply": "2025-08-20T18:38:59.206905Z",
     "shell.execute_reply.started": "2025-08-20T18:38:58.949083Z"
    },
    "trusted": true
   },
   "outputs": [],
   "source": [
    "# Pie chart distribution of vehicle types\n",
    "palette_vehicle = sns.color_palette('viridis', len(df['Vehicle Type'].unique()))\n",
    "\n",
    "plt.figure(figsize=(12, 9))\n",
    "df['Vehicle Type'].value_counts().plot.pie(autopct='%1.1f%%', startangle=90, colors=palette_vehicle)\n",
    "plt.title('Vehicle Type Distribution')\n",
    "plt.ylabel('')\n",
    "plt.legend(title='Vehicle Type')\n",
    "plt.show()\n"
   ]
  },
  {
   "cell_type": "markdown",
   "metadata": {
    "cellUniqueIdByVincent": "2ae66"
   },
   "source": [
    "Revenue by Vehicle Type"
   ]
  },
  {
   "cell_type": "code",
   "execution_count": null,
   "metadata": {
    "cellUniqueIdByVincent": "c9d42",
    "execution": {
     "iopub.execute_input": "2025-08-20T18:38:59.214051Z",
     "iopub.status.busy": "2025-08-20T18:38:59.213728Z",
     "iopub.status.idle": "2025-08-20T18:38:59.961584Z",
     "shell.execute_reply": "2025-08-20T18:38:59.960438Z",
     "shell.execute_reply.started": "2025-08-20T18:38:59.214027Z"
    },
    "trusted": true
   },
   "outputs": [],
   "source": [
    "# Box plot revenue by vehicle type\n",
    "plt.figure(figsize=(12, 6))\n",
    "sns.boxplot(data=df, x='Vehicle Type', y='Booking Value', palette='viridis', hue='Vehicle Type')\n",
    "plt.xticks(rotation=0)\n",
    "plt.title('Revenue Distribution by Vehicle Type')\n",
    "plt.show()"
   ]
  },
  {
   "cell_type": "markdown",
   "metadata": {
    "cellUniqueIdByVincent": "55df0"
   },
   "source": [
    "### 📍 3. Location Visualization\n",
    "\n",
    "Top Pickup/Drop Locations:"
   ]
  },
  {
   "cell_type": "code",
   "execution_count": null,
   "metadata": {
    "cellUniqueIdByVincent": "12ab1",
    "execution": {
     "iopub.execute_input": "2025-08-20T18:38:59.962841Z",
     "iopub.status.busy": "2025-08-20T18:38:59.962522Z",
     "iopub.status.idle": "2025-08-20T18:39:00.394955Z",
     "shell.execute_reply": "2025-08-20T18:39:00.39297Z",
     "shell.execute_reply.started": "2025-08-20T18:38:59.962819Z"
    },
    "trusted": true
   },
   "outputs": [],
   "source": [
    "# Horizontal bar chart top locations\n",
    "fig, (ax1, ax2) = plt.subplots(1, 2, figsize=(16, 8))\n",
    "\n",
    "# Top pickup locations\n",
    "df['Pickup Location'].value_counts().nlargest(10).plot(kind='barh', ax=ax1, color=sns.color_palette('viridis'))\n",
    "\n",
    "ax1.set_title('Top 10 Pickup Locations')\n",
    "\n",
    "# Top drop locations\n",
    "df['Drop Location'].value_counts().nlargest(10).plot(kind='barh', ax=ax2, color=sns.color_palette('plasma'))\n",
    "\n",
    "ax2.set_title('Top 10 Drop Locations')\n",
    "plt.subplots_adjust(wspace=0.4, hspace=0.3)\n",
    "plt.show()"
   ]
  },
  {
   "cell_type": "markdown",
   "metadata": {
    "cellUniqueIdByVincent": "581b8"
   },
   "source": [
    "### 💰 4. Visualisasi Revenue & Performance\n",
    "\n",
    "Revenue Analysis:"
   ]
  },
  {
   "cell_type": "code",
   "execution_count": null,
   "metadata": {
    "cellUniqueIdByVincent": "b7b5b",
    "execution": {
     "iopub.execute_input": "2025-08-20T18:39:00.396631Z",
     "iopub.status.busy": "2025-08-20T18:39:00.396245Z",
     "iopub.status.idle": "2025-08-20T18:39:01.029153Z",
     "shell.execute_reply": "2025-08-20T18:39:01.028185Z",
     "shell.execute_reply.started": "2025-08-20T18:39:00.396597Z"
    },
    "trusted": true
   },
   "outputs": [],
   "source": [
    "# Scatter plot: Distance vs Revenue\n",
    "plt.figure(figsize=(10, 6))\n",
    "plt.scatter(df['Ride Distance'], df['Booking Value'], alpha=0.6)\n",
    "plt.xlabel('Ride Distance (km)')\n",
    "plt.ylabel('Booking Value')\n",
    "plt.title('Distance vs Revenue Correlation')\n",
    "plt.show()"
   ]
  },
  {
   "cell_type": "markdown",
   "metadata": {
    "cellUniqueIdByVincent": "82d92"
   },
   "source": [
    "Payment Method Analysis:"
   ]
  },
  {
   "cell_type": "code",
   "execution_count": null,
   "metadata": {
    "cellUniqueIdByVincent": "4d7e8",
    "execution": {
     "iopub.execute_input": "2025-08-20T18:39:01.030959Z",
     "iopub.status.busy": "2025-08-20T18:39:01.030633Z",
     "iopub.status.idle": "2025-08-20T18:39:01.365092Z",
     "shell.execute_reply": "2025-08-20T18:39:01.364158Z",
     "shell.execute_reply.started": "2025-08-20T18:39:01.030933Z"
    },
    "trusted": true
   },
   "outputs": [],
   "source": [
    "# Stacked bar chart: Payment method by vehicle type\n",
    "payment_vehicle = pd.crosstab(df['Vehicle Type'], df['Payment Method'])\n",
    "payment_vehicle.plot(kind='bar', stacked=False, figsize=(12, 6), cmap='plasma')\n",
    "plt.title('Payment Methods by Vehicle Type')\n",
    "plt.xticks(rotation=0)\n",
    "plt.show()"
   ]
  },
  {
   "cell_type": "markdown",
   "metadata": {
    "cellUniqueIdByVincent": "df036"
   },
   "source": [
    "### ❌ 5. Visualization Cancellation Analysis\n",
    "\n",
    "Cancellation Reasons:"
   ]
  },
  {
   "cell_type": "code",
   "execution_count": null,
   "metadata": {
    "cellUniqueIdByVincent": "d73c1",
    "execution": {
     "iopub.execute_input": "2025-08-20T18:39:01.36669Z",
     "iopub.status.busy": "2025-08-20T18:39:01.366324Z",
     "iopub.status.idle": "2025-08-20T18:39:01.670845Z",
     "shell.execute_reply": "2025-08-20T18:39:01.669851Z",
     "shell.execute_reply.started": "2025-08-20T18:39:01.36666Z"
    },
    "trusted": true
   },
   "outputs": [],
   "source": [
    "# Donut chart for cancellation reasons\n",
    "fig, (ax1, ax2) = plt.subplots(1, 2, figsize=(15, 6))\n",
    "\n",
    "# Customer cancellations\n",
    "customer_cancel = df['Reason for cancelling by Customer'].value_counts()\n",
    "ax1.pie(customer_cancel.values, labels=customer_cancel.index, autopct='%1.1f%%', colors=sns.color_palette('viridis'))\n",
    "\n",
    "ax1.set_title('Customer Cancellation Reasons')\n",
    "\n",
    "# Driver cancellations\n",
    "driver_cancel = df['Driver Cancellation Reason'].value_counts()\n",
    "ax2.pie(driver_cancel.values, labels=driver_cancel.index, autopct='%1.1f%%', colors=sns.color_palette('plasma'))\n",
    "\n",
    "ax2.set_title('Driver Cancellation Reasons')\n",
    "\n",
    "plt.show()"
   ]
  },
  {
   "cell_type": "markdown",
   "metadata": {
    "cellUniqueIdByVincent": "e5bc1"
   },
   "source": [
    "### ⭐ 6. Visualisasi Rating & Satisfaction\n",
    "\n",
    "Rating Distributions:"
   ]
  },
  {
   "cell_type": "code",
   "execution_count": null,
   "metadata": {
    "cellUniqueIdByVincent": "5f406",
    "execution": {
     "iopub.execute_input": "2025-08-20T18:39:01.672209Z",
     "iopub.status.busy": "2025-08-20T18:39:01.671903Z",
     "iopub.status.idle": "2025-08-20T18:39:02.112998Z",
     "shell.execute_reply": "2025-08-20T18:39:02.111779Z",
     "shell.execute_reply.started": "2025-08-20T18:39:01.672186Z"
    },
    "trusted": true
   },
   "outputs": [],
   "source": [
    "# Histogram ratings\n",
    "fig, (ax1, ax2) = plt.subplots(1, 2, figsize=(12, 5))\n",
    "\n",
    "df['Driver Ratings'].hist(bins=20, ax=ax1, alpha=0.7)\n",
    "ax1.set_title('Driver Ratings Distribution')\n",
    "\n",
    "df['Customer Rating'].hist(bins=20, ax=ax2, alpha=0.7)\n",
    "ax2.set_title('Customer Ratings Distribution')\n",
    "plt.show()"
   ]
  },
  {
   "cell_type": "markdown",
   "metadata": {
    "cellUniqueIdByVincent": "9f932"
   },
   "source": [
    "Rating vs Revenue:"
   ]
  },
  {
   "cell_type": "code",
   "execution_count": null,
   "metadata": {
    "cellUniqueIdByVincent": "9117f",
    "execution": {
     "iopub.execute_input": "2025-08-20T18:39:02.114754Z",
     "iopub.status.busy": "2025-08-20T18:39:02.114454Z",
     "iopub.status.idle": "2025-08-20T18:39:13.367782Z",
     "shell.execute_reply": "2025-08-20T18:39:13.366812Z",
     "shell.execute_reply.started": "2025-08-20T18:39:02.114723Z"
    },
    "trusted": true
   },
   "outputs": [],
   "source": [
    "# Scatter plot: Rating vs Revenue\n",
    "plt.figure(figsize=(10, 6))\n",
    "plt.scatter(df['Driver Ratings'], df['Booking Value'], alpha=0.6, label='Driver Rating')\n",
    "plt.scatter(df['Customer Rating'], df['Booking Value'], alpha=0.6, label='Customer Rating')\n",
    "plt.xlabel('Rating')\n",
    "plt.ylabel('Booking Value')\n",
    "plt.legend()\n",
    "plt.title('Rating vs Revenue Analysis')\n",
    "plt.show()"
   ]
  },
  {
   "cell_type": "markdown",
   "metadata": {
    "cellUniqueIdByVincent": "2c13b"
   },
   "source": [
    "### 📈 7. Dashboard-style Visualizations\n",
    "\n",
    "Multi-metric Dashboard:"
   ]
  },
  {
   "cell_type": "code",
   "execution_count": null,
   "metadata": {
    "cellUniqueIdByVincent": "06bb0",
    "execution": {
     "iopub.execute_input": "2025-08-20T18:39:13.369398Z",
     "iopub.status.busy": "2025-08-20T18:39:13.368949Z",
     "iopub.status.idle": "2025-08-20T18:39:14.985054Z",
     "shell.execute_reply": "2025-08-20T18:39:14.983813Z",
     "shell.execute_reply.started": "2025-08-20T18:39:13.369351Z"
    },
    "trusted": true
   },
   "outputs": [],
   "source": [
    "# Subplot dashboard\n",
    "fig, axes = plt.subplots(2, 3, figsize=(18, 12))\n",
    "\n",
    "# Booking status distribution\n",
    "df['Booking Status'].value_counts().plot(kind='pie', ax=axes[0,0])\n",
    "axes[0, 0].set_title('Booking Status')\n",
    "\n",
    "# Hourly pattern\n",
    "df['Hour'].value_counts().sort_index().plot(kind='line', ax=axes[0,1])\n",
    "axes[0,1].set_title('Hourly Booking Pattern')\n",
    "\n",
    "# Vehicle type performance\n",
    "vehicle_revenue = df.groupby('Vehicle Type')['Booking Value'].mean()\n",
    "vehicle_revenue.plot(kind='bar', ax=axes[0,2])\n",
    "axes[0,2].set_title('Avg Revenue by Vehicle')\n",
    "\n",
    "# Distance distribution\n",
    "df['Ride Distance'].hist(bins=30, ax=axes[1,0])\n",
    "axes[1,0].set_title('Distance Distribution')\n",
    "\n",
    "# VTAT vs CTAT\n",
    "axes[1,1].scatter(df['Avg VTAT'], df['Avg CTAT'])\n",
    "axes[1,1].set_title('VTAT vs CTAT')\n",
    "\n",
    "# Monthly trend\n",
    "monthly_revenue = df.groupby('Month')['Booking Value'].sum()\n",
    "monthly_revenue.plot(kind='line', marker='o', ax=axes[1,2])\n",
    "axes[1,2].set_title('Monthly Revenue Trend')\n",
    "\n",
    "plt.tight_layout()\n",
    "plt.show()"
   ]
  },
  {
   "cell_type": "markdown",
   "metadata": {
    "cellUniqueIdByVincent": "6c66f"
   },
   "source": [
    "📊 Key Insights from Dashboard:\n",
    "1. Booking Status (Pie Chart)\n",
    "- Completed rides dominate (~65-70%)\n",
    "- Cancelled by Driver is significant (orange slice)\n",
    "- Cancelled by Customer is visible (red slice)\n",
    "- No Driver Found and Incomplete are relatively small\n",
    "2. Hourly Booking Pattern (Line Chart)\n",
    "- Peak hours: 9-10 AM and 5-6 PM\n",
    "- Low activity: 12-5 AM (night hours)\n",
    "- Classic pattern: Morning and evening rush hours\n",
    "3. Average Revenue by Vehicle\n",
    "- All vehicle types have similar average revenue (~480-490)\n",
    "- This indicates consistent pricing strategy\n",
    "- Auto slightly lower than others\n",
    "4. Distance Distribution\n",
    "- Highly skewed: Majority are short-distance trips\n",
    "- Peak around 20-25 km\n",
    "- Long tail: Few long-distance journeys\n",
    "5. VTAT vs CTAT Scatter\n",
    "- Dense cluster shows consistency in waiting times\n",
    "- VTAT (Vehicle Time to Arrival) vs CTAT (Customer Time to Arrival)\n",
    "- Pattern shows good correlation\n",
    "6. Monthly Revenue Trend\n",
    "- High volatility throughout the year\n",
    "- Peak in June (~6.25M)\n",
    "- Dip in January (~5.7M)\n",
    "- Clear seasonal patterns\n",
    "- High volatility throughout the year\n",
    "- Peak in June (~6.25M)\n",
    "- Dip in January (~5.7M)\n",
    "- Clear seasonal patterns visible\n"
   ]
  },
  {
   "cell_type": "code",
   "execution_count": null,
   "metadata": {
    "cellUniqueIdByVincent": "bc5fe",
    "execution": {
     "iopub.execute_input": "2025-08-20T18:39:14.9862Z",
     "iopub.status.busy": "2025-08-20T18:39:14.985872Z",
     "iopub.status.idle": "2025-08-20T18:39:15.319972Z",
     "shell.execute_reply": "2025-08-20T18:39:15.31907Z",
     "shell.execute_reply.started": "2025-08-20T18:39:14.986174Z"
    },
    "trusted": true
   },
   "outputs": [],
   "source": [
    "# Analisis cancellation rate by hour\n",
    "cancellation_by_hour = df[df['Booking Status'].isin(['Cancelled by Customer', 'Cancelled by Driver'])].groupby('Hour').size()\n",
    "\n",
    "cancellation_by_hour.plot(kind='barh', title='Cancellation Rate by Hour', figsize=(11, 9))\n",
    "plt.xlabel('Hour of Day')\n",
    "plt.ylabel('Number of Cancellations')\n",
    "plt.show()\n"
   ]
  },
  {
   "cell_type": "code",
   "execution_count": null,
   "metadata": {
    "cellUniqueIdByVincent": "713e9",
    "execution": {
     "iopub.execute_input": "2025-08-20T18:39:15.321553Z",
     "iopub.status.busy": "2025-08-20T18:39:15.321191Z",
     "iopub.status.idle": "2025-08-20T18:39:15.746797Z",
     "shell.execute_reply": "2025-08-20T18:39:15.745665Z",
     "shell.execute_reply.started": "2025-08-20T18:39:15.321524Z"
    },
    "trusted": true
   },
   "outputs": [],
   "source": [
    "# Revenue per km analysis\n",
    "df['Revenue_per_km'] = df['Booking Value'] / df['Ride Distance']\n",
    "revenue_efficiency = df.groupby('Vehicle Type')['Revenue_per_km'].mean()\n",
    "revenue_efficiency.plot(kind='bar', title='Revenue per km by Vehicle Type', figsize=(11, 9))\n",
    "plt.xlabel('Vehicle Type')\n",
    "plt.ylabel('Revenue per km')\n",
    "plt.xticks(rotation=0)\n",
    "plt.show()\n"
   ]
  },
  {
   "cell_type": "code",
   "execution_count": null,
   "metadata": {
    "cellUniqueIdByVincent": "78f67",
    "execution": {
     "iopub.execute_input": "2025-08-20T18:39:15.748178Z",
     "iopub.status.busy": "2025-08-20T18:39:15.747821Z",
     "iopub.status.idle": "2025-08-20T18:39:16.259337Z",
     "shell.execute_reply": "2025-08-20T18:39:16.258213Z",
     "shell.execute_reply.started": "2025-08-20T18:39:15.748139Z"
    },
    "trusted": true
   },
   "outputs": [],
   "source": [
    "# Weekly patterns\n",
    "df['Week'] = df['Date'].dt.isocalendar().week\n",
    "weekly_demand = df.groupby(['Week', 'Hour']).size().unstack()\n",
    "plt.figure(figsize=(12, 8))\n",
    "sns.heatmap(weekly_demand, cmap='YlGnBu')\n",
    "plt.title('Weekly Demand Pattern')\n",
    "plt.xlabel('Hour of Day')\n",
    "plt.ylabel('Week of Year')\n",
    "plt.show()\n",
    "\n"
   ]
  },
  {
   "cell_type": "markdown",
   "metadata": {
    "cellUniqueIdByVincent": "60cc4"
   },
   "source": [
    "📊 Weekly Demand Pattern Heatmap Analysis\n",
    "\n",
    "This heatmap provides valuable insights about Uber demand patterns throughout 2024! Let me break down the key findings:\n",
    "\n",
    "🔍 Key Insights:\n",
    "\n",
    "### 1. Consistent Daily Patterns\n",
    "\n",
    "- **Peak Hours (5-7 PM)**\n",
    "  - Dark blue coloring indicates highest demand\n",
    "  - Primary rush hour period\n",
    "\n",
    "- **Secondary Peak (9-11 AM)**\n",
    "  - Morning rush hour activity\n",
    "  - Notable but lower than evening peak\n",
    "\n",
    "- **Low Demand Period (12-6 AM)**\n",
    "  - Yellow/light green coloring\n",
    "  - Minimal ride activity\n",
    "\n",
    "- **Evening Activity (8-10 PM)**\n",
    "  - Maintains relatively high demand\n",
    "  - Post-peak but significant usage\n",
    "\n",
    "### 2. Weekly Patterns\n",
    "\n",
    "- **Year-round Consistency**\n",
    "  - Regular weekly pattern repetition\n",
    "  - Predictable demand cycles\n",
    "\n",
    "- **Weekend vs Weekday**\n",
    "  - No significant visible differentiation\n",
    "  - Weekly aggregation masks daily variations\n",
    "\n",
    "- **Seasonal Variations**\n",
    "  - Fluctuating demand across weeks\n",
    "  - Notable periodic changes\n",
    "\n",
    "### 3. Seasonal Trends\n",
    "\n",
    "- **Mid-year Peak (Weeks 20-30)**\n",
    "  - May-July shows heightened activity\n",
    "  - Summer season demand surge\n",
    "\n",
    "- **Year-end Activity (Weeks 45-52)**\n",
    "  - November-December peak period\n",
    "  - Holiday season impact\n",
    "\n",
    "- **Early Year (Weeks 1-10)**\n",
    "  - January-March shows lower demand\n",
    "  - Post-holiday season decline\n"
   ]
  },
  {
   "cell_type": "markdown",
   "metadata": {
    "cellUniqueIdByVincent": "a7056"
   },
   "source": [
    "# Machine Learning Implementation"
   ]
  },
  {
   "cell_type": "markdown",
   "metadata": {
    "cellUniqueIdByVincent": "d299c"
   },
   "source": [
    "## 🎯 1. Booking Status Prediction - Classification\n",
    "\n",
    "### Step 1: Data Preparation & Feature Engineering"
   ]
  },
  {
   "cell_type": "code",
   "execution_count": null,
   "metadata": {
    "cellUniqueIdByVincent": "aac33",
    "execution": {
     "iopub.execute_input": "2025-08-20T18:39:16.261281Z",
     "iopub.status.busy": "2025-08-20T18:39:16.26082Z",
     "iopub.status.idle": "2025-08-20T18:39:16.294617Z",
     "shell.execute_reply": "2025-08-20T18:39:16.29336Z",
     "shell.execute_reply.started": "2025-08-20T18:39:16.261254Z"
    },
    "trusted": true
   },
   "outputs": [],
   "source": [
    "# Check target variable distribution\n",
    "print('Booking Status Distribution:')\n",
    "print(df['Booking Status'].value_counts())\n",
    "print('Percentage')\n",
    "print(df['Booking Status'].value_counts(normalize=True) * 100)"
   ]
  },
  {
   "cell_type": "markdown",
   "metadata": {
    "cellUniqueIdByVincent": "e9a91"
   },
   "source": [
    "### Step 2: Feature Engineering"
   ]
  },
  {
   "cell_type": "code",
   "execution_count": null,
   "metadata": {
    "cellUniqueIdByVincent": "8f083",
    "execution": {
     "iopub.execute_input": "2025-08-20T18:39:16.296Z",
     "iopub.status.busy": "2025-08-20T18:39:16.295713Z",
     "iopub.status.idle": "2025-08-20T18:39:16.502444Z",
     "shell.execute_reply": "2025-08-20T18:39:16.501434Z",
     "shell.execute_reply.started": "2025-08-20T18:39:16.295978Z"
    },
    "trusted": true
   },
   "outputs": [],
   "source": [
    "# Create new features\n",
    "df_ml = df.copy()\n",
    "\n",
    "# Temporal features\n",
    "df_ml['Is_Weekend'] = df_ml['Day_of_week'].isin(['Saturday', 'Sunday']).astype(int)\n",
    "df_ml['Is_Rush_Hour'] = df_ml['Hour'].isin([8, 9, 17, 18, 19]).astype(int)\n",
    "df_ml['Is_Night'] = df_ml['Hour'].isin([22, 23, 0, 1, 2, 3, 4, 5]).astype(int)\n",
    "\n",
    "# Cyclical encoding for hour\n",
    "df_ml['Hour_sin'] = np.sin(2 * np.pi * df_ml['Hour'] / 24)\n",
    "df_ml['Hour_cos'] = np.cos(2 * np.pi * df_ml['Hour'] / 24)\n",
    "\n",
    "# Efficiency features\n",
    "df_ml['Revenue_per_km'] = df_ml['Booking Value'] / df_ml['Ride Distance']\n",
    "df_ml['VTAT_CTAT_ratio'] = df_ml['Avg VTAT'] / df_ml['Avg CTAT']\n",
    "\n",
    "# Location features (frequency encoding)\n",
    "pickup_counts = df_ml['Pickup Location'].value_counts()\n",
    "drop_counts = df_ml['Drop Location'].value_counts()\n",
    "df_ml['Pickup_Frequency'] = df_ml['Pickup Location'].map(pickup_counts)\n",
    "df_ml['Drop_Frequency'] = df_ml['Drop Location'].map(drop_counts)\n",
    "\n",
    "print(\"New features created successfully!\")\n"
   ]
  },
  {
   "cell_type": "markdown",
   "metadata": {
    "cellUniqueIdByVincent": "9615a"
   },
   "source": [
    "### Step 3: Feature Selection & Preprocessing"
   ]
  },
  {
   "cell_type": "code",
   "execution_count": null,
   "metadata": {
    "cellUniqueIdByVincent": "b8a0f",
    "execution": {
     "iopub.execute_input": "2025-08-20T18:39:16.504305Z",
     "iopub.status.busy": "2025-08-20T18:39:16.50395Z",
     "iopub.status.idle": "2025-08-20T18:39:16.636749Z",
     "shell.execute_reply": "2025-08-20T18:39:16.635953Z",
     "shell.execute_reply.started": "2025-08-20T18:39:16.504275Z"
    },
    "trusted": true
   },
   "outputs": [],
   "source": [
    "# Select features for modeling\n",
    "feature_columns = [\n",
    "    'Hour', 'Hour_sin', 'Hour_cos',\n",
    "    'Is_Weekend', 'Is_Rush_Hour', 'Is_Night',\n",
    "    'Ride Distance', 'Booking Value',\n",
    "    'Avg VTAT', 'Avg CTAT', 'VTAT_CTAT_ratio',\n",
    "    'Revenue_per_km',\n",
    "    'Pickup_Frequency', 'Drop_Frequency'\n",
    "]\n",
    "\n",
    "# Add categorical features with encoding\n",
    "categorical_features = ['Vehicle Type', 'Day_of_week', 'Month']\n",
    "\n",
    "# Label encoding for categorical features\n",
    "label_encoders = {}\n",
    "for col in categorical_features:\n",
    "    le = LabelEncoder()\n",
    "    df_ml[f'{col}_encoded'] = le.fit_transform(df_ml[col])\n",
    "    label_encoders[col] = le \n",
    "    feature_columns.append(f'{col}_encoded')\n",
    "    \n",
    "\n",
    "# Prepare final dataset\n",
    "X = df_ml[feature_columns]\n",
    "y = df_ml['Booking Status']\n",
    "\n",
    "print(f'Features shape: {X.shape}')\n",
    "print(f'Target classes: {y.unique()}')"
   ]
  },
  {
   "cell_type": "markdown",
   "metadata": {
    "cellUniqueIdByVincent": "0d6f6"
   },
   "source": [
    "### Step 4: Train-Test Split"
   ]
  },
  {
   "cell_type": "code",
   "execution_count": null,
   "metadata": {
    "cellUniqueIdByVincent": "0f76a",
    "execution": {
     "iopub.execute_input": "2025-08-20T18:39:16.63796Z",
     "iopub.status.busy": "2025-08-20T18:39:16.637672Z",
     "iopub.status.idle": "2025-08-20T18:39:16.853446Z",
     "shell.execute_reply": "2025-08-20T18:39:16.852232Z",
     "shell.execute_reply.started": "2025-08-20T18:39:16.637937Z"
    },
    "trusted": true
   },
   "outputs": [],
   "source": [
    "# Split the data\n",
    "X_train, X_test, y_train, y_test = train_test_split(\n",
    "    X, y, test_size=.2, random_state=42, stratify=y\n",
    ")\n",
    "\n",
    "print(f'Training set: {X_train.shape}')\n",
    "print(f'Test set: {X_test.shape}')\n",
    "print('Training set target distribution:')\n",
    "print(y_train.value_counts(normalize=True))\n"
   ]
  },
  {
   "cell_type": "markdown",
   "metadata": {
    "cellUniqueIdByVincent": "3347c"
   },
   "source": [
    "### Step 5: Model Training & Evaluation"
   ]
  },
  {
   "cell_type": "code",
   "execution_count": null,
   "metadata": {
    "cellUniqueIdByVincent": "bb487",
    "execution": {
     "iopub.execute_input": "2025-08-20T18:39:16.854615Z",
     "iopub.status.busy": "2025-08-20T18:39:16.854283Z",
     "iopub.status.idle": "2025-08-20T18:39:24.405979Z",
     "shell.execute_reply": "2025-08-20T18:39:24.40378Z",
     "shell.execute_reply.started": "2025-08-20T18:39:16.854585Z"
    },
    "trusted": true
   },
   "outputs": [],
   "source": [
    "# Intialize and train Random Forest model\n",
    "rf_model = RandomForestClassifier(\n",
    "    n_estimators=100,\n",
    "    max_depth=10,\n",
    "    min_samples_split=5,\n",
    "    min_samples_leaf=2,\n",
    "    random_state=42,\n",
    "    n_jobs=-1\n",
    ")\n",
    "\n",
    "\n",
    "# Train the model\n",
    "print('Training Random Forest model...')\n",
    "rf_model.fit(X_train, y_train)\n",
    "\n",
    "# Make predictions\n",
    "y_pred = rf_model.predict(X_test)\n",
    "y_pred_proba = rf_model.predict_proba(X_test)\n",
    "\n",
    "# Evaluate the model\n",
    "accuracy = accuracy_score(y_test, y_pred)\n",
    "print(f'Model Accuracy: {accuracy:.4f}')\n",
    "\n",
    "# Detailed classification report\n",
    "print('Classification Report:')\n",
    "print(classification_report(y_test, y_pred))"
   ]
  },
  {
   "cell_type": "markdown",
   "metadata": {
    "cellUniqueIdByVincent": "4700f"
   },
   "source": [
    "### Step 6: Model Analysis & Visualization"
   ]
  },
  {
   "cell_type": "code",
   "execution_count": null,
   "metadata": {
    "cellUniqueIdByVincent": "7f39f",
    "execution": {
     "iopub.execute_input": "2025-08-20T18:39:24.407837Z",
     "iopub.status.busy": "2025-08-20T18:39:24.407485Z",
     "iopub.status.idle": "2025-08-20T18:39:24.882276Z",
     "shell.execute_reply": "2025-08-20T18:39:24.881261Z",
     "shell.execute_reply.started": "2025-08-20T18:39:24.407801Z"
    },
    "trusted": true
   },
   "outputs": [],
   "source": [
    "# Confusion Matrix\n",
    "plt.figure(figsize=(10, 8))\n",
    "cm = confusion_matrix(y_test, y_pred)\n",
    "sns.heatmap(cm, annot=True, fmt='d', cmap='Blues',\n",
    "            xticklabels=rf_model.classes_,\n",
    "            yticklabels=rf_model.classes_)\n",
    "plt.title('Confusion Matrix')\n",
    "plt.ylabel('True Label')\n",
    "plt.xlabel('Predicted Label')\n",
    "plt.show()\n"
   ]
  },
  {
   "cell_type": "code",
   "execution_count": null,
   "metadata": {
    "cellUniqueIdByVincent": "cfac3",
    "execution": {
     "iopub.execute_input": "2025-08-20T18:39:24.883605Z",
     "iopub.status.busy": "2025-08-20T18:39:24.883322Z",
     "iopub.status.idle": "2025-08-20T18:39:25.143727Z",
     "shell.execute_reply": "2025-08-20T18:39:25.142738Z",
     "shell.execute_reply.started": "2025-08-20T18:39:24.883583Z"
    },
    "trusted": true
   },
   "outputs": [],
   "source": [
    "# Feature importance\n",
    "feature_importance = pd.DataFrame({\n",
    "    'feature': feature_columns,\n",
    "    'importance': rf_model.feature_importances_\n",
    "}).sort_values('importance', ascending=False)\n",
    "\n",
    "plt.figure(figsize=(12, 8))\n",
    "sns.barplot(data=feature_importance.head(10), x='importance', y='feature')\n",
    "plt.title('Top 10 Feature Importance - Booking Status Prediction')\n",
    "plt.xlabel('Importance')\n",
    "plt.show()"
   ]
  },
  {
   "cell_type": "markdown",
   "metadata": {
    "cellUniqueIdByVincent": "4617a"
   },
   "source": [
    "### Step 7: Cross-Validation"
   ]
  },
  {
   "cell_type": "code",
   "execution_count": null,
   "metadata": {
    "cellUniqueIdByVincent": "81a3e",
    "execution": {
     "iopub.execute_input": "2025-08-20T18:39:25.14487Z",
     "iopub.status.busy": "2025-08-20T18:39:25.144488Z",
     "iopub.status.idle": "2025-08-20T18:39:50.345875Z",
     "shell.execute_reply": "2025-08-20T18:39:50.344476Z",
     "shell.execute_reply.started": "2025-08-20T18:39:25.144842Z"
    },
    "trusted": true
   },
   "outputs": [],
   "source": [
    "# Cross-validation for robust evaluation\n",
    "cv_scores = cross_val_score(rf_model, X_train, y_train, cv=5, scoring='accuracy')\n",
    "print('Cross-Validation Scores: {cv_scores}')\n",
    "print(f'Mean CV Accuracy: {cv_scores.mean():.4f} (+/- {cv_scores.std() * 2:.4f})')"
   ]
  },
  {
   "cell_type": "markdown",
   "metadata": {
    "cellUniqueIdByVincent": "2eec5"
   },
   "source": [
    "### Step 8: Model Interpretation & Business Insights"
   ]
  },
  {
   "cell_type": "code",
   "execution_count": null,
   "metadata": {
    "cellUniqueIdByVincent": "78a05",
    "execution": {
     "iopub.execute_input": "2025-08-20T18:39:50.34743Z",
     "iopub.status.busy": "2025-08-20T18:39:50.347049Z",
     "iopub.status.idle": "2025-08-20T18:39:50.363329Z",
     "shell.execute_reply": "2025-08-20T18:39:50.362375Z",
     "shell.execute_reply.started": "2025-08-20T18:39:50.347399Z"
    },
    "trusted": true
   },
   "outputs": [],
   "source": [
    "# Analyze predictions by booking status\n",
    "prediction_analysis = pd.DataFrame({\n",
    "    'Actual': y_test,\n",
    "    'Predicted': y_pred,\n",
    "    'Correct': y_test == y_pred\n",
    "})\n",
    "\n",
    "# Succes rate by actual status\n",
    "success_by_status = prediction_analysis.groupby('Actual')['Correct'].mean()\n",
    "print('Prediction Accuracy by Booking Status:')\n",
    "for status, accuracy in success_by_status.items():\n",
    "    print(f'{status}: {accuracy:.4f}')"
   ]
  }
 ],
 "metadata": {
  "kaggle": {
   "accelerator": "none",
   "dataSources": [
    {
     "datasetId": 8032385,
     "sourceId": 12709507,
     "sourceType": "datasetVersion"
    }
   ],
   "dockerImageVersionId": 31089,
   "isGpuEnabled": false,
   "isInternetEnabled": false,
   "language": "python",
   "sourceType": "notebook"
  },
  "kernelspec": {
   "display_name": "venv (3.13.3)",
   "language": "python",
   "name": "python3"
  },
  "language_info": {
   "codemirror_mode": {
    "name": "ipython",
    "version": 3
   },
   "file_extension": ".py",
   "mimetype": "text/x-python",
   "name": "python",
   "nbconvert_exporter": "python",
   "pygments_lexer": "ipython3",
   "version": "3.13.3"
  },
  "vincent": {
   "sessionId": "945d4f96ef317cdcc1a2bc17_2025-08-20T12-42-06-863Z"
  }
 },
 "nbformat": 4,
 "nbformat_minor": 4
}
